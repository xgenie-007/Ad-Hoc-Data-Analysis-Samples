{
 "cells": [
  {
   "cell_type": "markdown",
   "metadata": {},
   "source": [
    "### Kaykay Essien\n",
    "\n",
    "Problem: Compute the lifetime value (LTV) of the average buyer - how much they have spent on the platform overall. \n",
    "There are many ways to compute this metric, so explain your approach. Compare your metric between a few different \n",
    "user segments - for example, users who initially purchased a brand-new item vs. users who initially purchased a used\n",
    "item. Explain why you think any differences do or do not exist and how you might test these hypotheses.\n",
    "\n",
    "#### Summary:\n",
    "\n",
    "1. The Lifetime Value at 50 years was computed to be about USD 6100 per customer, using a BG/NBD methos, as opposed to USD 12000 using a historical cohort method. However, the BG/NBD method was found to be very significantly more accurate than the cohort method.\n",
    "\n",
    "2. Users who purchased used items first were found to outspend those who purchased brand new items first, by 100% (both sets of users differ from the mean LTV by around 33% on either side). \n",
    "\n",
    "3. Similarly, those who purchased fewer new items spent more than those who purchased more new items than average, by 100% as well, with both sets of users differing from the mean LTV by around 33% on either side.\n",
    "\n",
    "4. When adjusted for outliers, the LTV dropped to USD 1843 for the 89% of users who fell within bounds. Users who purchased used items first, and fewer brand new items still outperformed those who purchased brand new first and more brand new. However, the difference in LTV dropped from 100% to 27% more for those who purchased used products first, and 20% for those who purchased fewer new products.\n",
    "\n",
    "5. A likelihood ratio test would best verify these hypothesis, but the discrepancies were large enough that one was unnecessary."
   ]
  },
  {
   "cell_type": "markdown",
   "metadata": {},
   "source": [
    "## Lifetime Value Calculations\n",
    "\n",
    "Different methods were considered for estimating Customer Lifetime Value. \n",
    "\n",
    "The basic RFM analysis framework was one such method, where customer recency (time since last purchase), frequency(mean purchases over a period of time) and monetary value(mean expenditure per purchase) are used to predict customer lifetime value. However, the drawback with this dataset is that customer behavior is non-contractual, and discontinuous, and extrapolating from RFM was certain to prove calamituous. \n",
    "\n",
    "A historical cohort approach was the second considered method. Here, CLV is estimated by trends in customer behaviour over continuous time. However, to avoid the error of making this assumption on individual, non-contractual users, the model is based on the assumption that users from cohorts (i.e, users grouped by time period of birth, or first activity) are likely to have similar behavioral patterns, when viewed as a group.\n",
    "\n",
    "The final approach considered was the BG/NBD probabilistic model. It is a more robust way of estimating LTV, considering non-contractual, independent users, who may or may not perform a transaction, given a time period. An interesting paper, by some of the proponents of the model is included here : http://mktg.uni-svishtov.bg/ivm/resources/Counting_Your_Customers.pdf"
   ]
  },
  {
   "cell_type": "code",
   "execution_count": 1,
   "metadata": {
    "collapsed": true
   },
   "outputs": [],
   "source": [
    "import pandas as pd\n",
    "import numpy as np\n",
    "import datetime as dt\n",
    "from datetime import datetime\n",
    "import math\n",
    "import matplotlib.pyplot as plt"
   ]
  },
  {
   "cell_type": "markdown",
   "metadata": {},
   "source": [
    "## Historical Cohort Model\n",
    "\n",
    " \n",
    "\n",
    "First, users were grouped into cohorts, based on their month of signup, and their transactions were sampled into monthly periods as well. These were used to estimate retention at each period, by cohort; as well as the average expenditure of each cohort at given time periods."
   ]
  },
  {
   "cell_type": "code",
   "execution_count": 2,
   "metadata": {
    "collapsed": false
   },
   "outputs": [],
   "source": [
    "order_sample_df = pd.read_csv(\"reverb_order_sample.csv\")\n",
    "new_df = order_sample_df.dropna(subset = ['amount_total_cents'])\n",
    "\n",
    "# define cohort segments\n",
    "segments = []\n",
    "month = ['dec-jan', 'jan-feb', 'feb-mar', 'mar-apr', 'apr-may', 'may-jun', 'jun-jul', 'jul-aug', 'aug-sep', 'sep-oct',\n",
    "         'oct-nov', 'nov-dec']\n",
    "year = ['2013', '2014', '2015', '2016']\n",
    "for i in range(len(year)):\n",
    "    for j in range(len(month)):\n",
    "        segments.append(month[j]+' '+year[i])\n",
    "\n",
    "# define cohort segment start dates\n",
    "date_starts = ['2012-12-10']\n",
    "year = ['2013', '2014', '2015', '2016']\n",
    "month = ['01', '02', '03', '04', '05', '06', '07', '08', '09', '10', '11', '12']\n",
    "for i in range(len(year)):\n",
    "    for j in range(len(month)):\n",
    "        date_starts.append(year[i]+'-'+month[j]+'-10')\n",
    "date_starts.remove('2016-12-10')\n",
    "\n",
    "# define cohort segment end dates\n",
    "date_ends = []\n",
    "for i in range(len(year)):\n",
    "    for j in range(len(month)):\n",
    "        date_ends.append(year[i]+'-'+month[j]+'-10')\n",
    "\n",
    "# define column names\n",
    "col_names = []\n",
    "for i in range(1,49):\n",
    "    j = str(i)\n",
    "    col_names.append(j+' months')"
   ]
  },
  {
   "cell_type": "code",
   "execution_count": 3,
   "metadata": {
    "collapsed": false,
    "scrolled": false
   },
   "outputs": [],
   "source": [
    "# retained_customers function estimates how many customers are 'active' (ie, will make a purchase between \n",
    "# the start of the time period till the end of the data's time frame) from a cohort\n",
    "\n",
    "def retained_customers(df, right, left, term_end):\n",
    "    valid_users = df.loc[df['registered_at'] < right]\n",
    "    valid_users = valid_users.loc[valid_users['registered_at'] > left]\n",
    "    active_segment = valid_users.loc[valid_users['created_at'] > term_end]\n",
    "    return active_segment['user_id'].unique().shape[0]\n",
    "\n",
    "## build active customer table by cohort\n",
    "\n",
    "active_customers_table = pd.DataFrame()\n",
    "active_customers_table['cohort']= pd.Series(segments)\n",
    "\n",
    "for i in range(48):\n",
    "    new_col = []\n",
    "    for j in range(i,48):\n",
    "        new_col.append(retained_customers(new_df, date_ends[j-i], date_starts[j-i], date_starts[j]))\n",
    "    while(len(new_col) < 48):\n",
    "        new_col.append(None)\n",
    "    active_customers_table[col_names[i]] = pd.Series(new_col)\n",
    "\n",
    "    \n",
    "# expenditure function estimates total purchase values for a cohort over a time period (1 month)\n",
    "\n",
    "def expenditure(df, right, left, term_end):\n",
    "    valid_users = df.loc[df['registered_at'] < right]\n",
    "    valid_users = valid_users.loc[valid_users['registered_at'] > left]\n",
    "    active_segment = valid_users.loc[valid_users['created_at'] < term_end]\n",
    "    return active_segment['amount_total_cents'].sum()\n",
    "\n",
    "## build cumulative expenditure table\n",
    "\n",
    "cumulative_table = pd.DataFrame()\n",
    "cumulative_table['cohort']= pd.Series(segments)\n",
    "\n",
    "for i in range(48):\n",
    "    new_col = []\n",
    "    for j in range(i,48):\n",
    "        new_col.append(expenditure(new_df, date_ends[j-i], date_starts[j-i], date_ends[j]))\n",
    "    while(len(new_col) < 48):\n",
    "        new_col.append(None)\n",
    "    cumulative_table[col_names[i]] = pd.Series(new_col)\n",
    "\n",
    "       "
   ]
  },
  {
   "cell_type": "code",
   "execution_count": null,
   "metadata": {
    "collapsed": false
   },
   "outputs": [],
   "source": [
    "## Build Retention Table\n",
    "\n",
    "retention_table = pd.DataFrame()\n",
    "retention_table['cohort']= pd.Series(segments)\n",
    "\n",
    "# get ratio of active users at each time period to users that signed up in that cohort initially\n",
    "for i in range(48):\n",
    "    for j in range(i,48):\n",
    "        if active_customers_table.ix[j-i,col_names[i]] == None:\n",
    "            retention_table.ix[j-i,col_names[i]] = None\n",
    "        else:\n",
    "            retention_table.ix[j-i,col_names[i]] = (active_customers_table.ix[j-i,col_names[i]]\n",
    "                                                    /active_customers_table.ix[j-i,1])\n",
    "\n",
    "retention_table.set_index('cohort')\n",
    "\n",
    "## Build HistoricLTV table\n",
    "historicLTV = pd.DataFrame()\n",
    "historicLTV['cohort']= pd.Series(segments)\n",
    "\n",
    "# LTV at each period estimated as total cumulative purchase value divided by count of initial users in cohort\n",
    "for i in range(48):\n",
    "    for j in range(i,48):\n",
    "        if active_customers_table.ix[j-i,col_names[i]] == None:\n",
    "            historicLTV.ix[j-i,col_names[i]] = None\n",
    "        else:\n",
    "            historicLTV.ix[j-i,col_names[i]] = cumulative_table.ix[j-i,col_names[i]]/active_customers_table.ix[j-i,1]\n",
    "\n",
    "historicLTV.set_index('cohort')\n",
    "\n"
   ]
  },
  {
   "cell_type": "markdown",
   "metadata": {},
   "source": [
    "##### Retention table \n",
    "\n",
    "This is a table of users grouped by cohort. At each period (column), the value is the ratio of 'alive' customers,\n",
    "ie, customers who will make a purchase in the period or in the future, to the initial number of users at the start\n",
    "of the cohort"
   ]
  },
  {
   "cell_type": "code",
   "execution_count": 6,
   "metadata": {
    "collapsed": false
   },
   "outputs": [
    {
     "data": {
      "text/html": [
       "<div>\n",
       "<table border=\"1\" class=\"dataframe\">\n",
       "  <thead>\n",
       "    <tr style=\"text-align: right;\">\n",
       "      <th></th>\n",
       "      <th>cohort</th>\n",
       "      <th>1 months</th>\n",
       "      <th>2 months</th>\n",
       "      <th>3 months</th>\n",
       "      <th>4 months</th>\n",
       "      <th>5 months</th>\n",
       "      <th>6 months</th>\n",
       "      <th>7 months</th>\n",
       "      <th>8 months</th>\n",
       "      <th>9 months</th>\n",
       "      <th>...</th>\n",
       "      <th>39 months</th>\n",
       "      <th>40 months</th>\n",
       "      <th>41 months</th>\n",
       "      <th>42 months</th>\n",
       "      <th>43 months</th>\n",
       "      <th>44 months</th>\n",
       "      <th>45 months</th>\n",
       "      <th>46 months</th>\n",
       "      <th>47 months</th>\n",
       "      <th>48 months</th>\n",
       "    </tr>\n",
       "  </thead>\n",
       "  <tbody>\n",
       "    <tr>\n",
       "      <th>0</th>\n",
       "      <td>dec-jan 2013</td>\n",
       "      <td>1.0</td>\n",
       "      <td>1.000000</td>\n",
       "      <td>1.000000</td>\n",
       "      <td>1.000000</td>\n",
       "      <td>1.000000</td>\n",
       "      <td>1.000000</td>\n",
       "      <td>1.000000</td>\n",
       "      <td>1.000000</td>\n",
       "      <td>1.000000</td>\n",
       "      <td>...</td>\n",
       "      <td>0.250000</td>\n",
       "      <td>0.250000</td>\n",
       "      <td>0.250000</td>\n",
       "      <td>0.250000</td>\n",
       "      <td>0.250000</td>\n",
       "      <td>0.250000</td>\n",
       "      <td>0.250000</td>\n",
       "      <td>0.250000</td>\n",
       "      <td>0.250000</td>\n",
       "      <td>0.25</td>\n",
       "    </tr>\n",
       "    <tr>\n",
       "      <th>1</th>\n",
       "      <td>jan-feb 2013</td>\n",
       "      <td>1.0</td>\n",
       "      <td>0.923077</td>\n",
       "      <td>0.923077</td>\n",
       "      <td>0.923077</td>\n",
       "      <td>0.923077</td>\n",
       "      <td>0.884615</td>\n",
       "      <td>0.884615</td>\n",
       "      <td>0.884615</td>\n",
       "      <td>0.846154</td>\n",
       "      <td>...</td>\n",
       "      <td>0.461538</td>\n",
       "      <td>0.423077</td>\n",
       "      <td>0.384615</td>\n",
       "      <td>0.307692</td>\n",
       "      <td>0.269231</td>\n",
       "      <td>0.230769</td>\n",
       "      <td>0.192308</td>\n",
       "      <td>0.192308</td>\n",
       "      <td>0.115385</td>\n",
       "      <td>NaN</td>\n",
       "    </tr>\n",
       "    <tr>\n",
       "      <th>2</th>\n",
       "      <td>feb-mar 2013</td>\n",
       "      <td>1.0</td>\n",
       "      <td>1.000000</td>\n",
       "      <td>1.000000</td>\n",
       "      <td>1.000000</td>\n",
       "      <td>1.000000</td>\n",
       "      <td>1.000000</td>\n",
       "      <td>1.000000</td>\n",
       "      <td>1.000000</td>\n",
       "      <td>1.000000</td>\n",
       "      <td>...</td>\n",
       "      <td>0.469388</td>\n",
       "      <td>0.469388</td>\n",
       "      <td>0.448980</td>\n",
       "      <td>0.448980</td>\n",
       "      <td>0.387755</td>\n",
       "      <td>0.306122</td>\n",
       "      <td>0.265306</td>\n",
       "      <td>0.163265</td>\n",
       "      <td>NaN</td>\n",
       "      <td>NaN</td>\n",
       "    </tr>\n",
       "    <tr>\n",
       "      <th>3</th>\n",
       "      <td>mar-apr 2013</td>\n",
       "      <td>1.0</td>\n",
       "      <td>0.863636</td>\n",
       "      <td>0.863636</td>\n",
       "      <td>0.863636</td>\n",
       "      <td>0.863636</td>\n",
       "      <td>0.863636</td>\n",
       "      <td>0.818182</td>\n",
       "      <td>0.818182</td>\n",
       "      <td>0.818182</td>\n",
       "      <td>...</td>\n",
       "      <td>0.272727</td>\n",
       "      <td>0.272727</td>\n",
       "      <td>0.227273</td>\n",
       "      <td>0.136364</td>\n",
       "      <td>0.136364</td>\n",
       "      <td>0.136364</td>\n",
       "      <td>0.136364</td>\n",
       "      <td>NaN</td>\n",
       "      <td>NaN</td>\n",
       "      <td>NaN</td>\n",
       "    </tr>\n",
       "    <tr>\n",
       "      <th>4</th>\n",
       "      <td>apr-may 2013</td>\n",
       "      <td>1.0</td>\n",
       "      <td>0.833333</td>\n",
       "      <td>0.833333</td>\n",
       "      <td>0.833333</td>\n",
       "      <td>0.833333</td>\n",
       "      <td>0.833333</td>\n",
       "      <td>0.833333</td>\n",
       "      <td>0.833333</td>\n",
       "      <td>0.833333</td>\n",
       "      <td>...</td>\n",
       "      <td>0.416667</td>\n",
       "      <td>0.333333</td>\n",
       "      <td>0.333333</td>\n",
       "      <td>0.250000</td>\n",
       "      <td>0.250000</td>\n",
       "      <td>0.166667</td>\n",
       "      <td>NaN</td>\n",
       "      <td>NaN</td>\n",
       "      <td>NaN</td>\n",
       "      <td>NaN</td>\n",
       "    </tr>\n",
       "  </tbody>\n",
       "</table>\n",
       "<p>5 rows × 49 columns</p>\n",
       "</div>"
      ],
      "text/plain": [
       "         cohort  1 months  2 months  3 months  4 months  5 months  6 months  \\\n",
       "0  dec-jan 2013       1.0  1.000000  1.000000  1.000000  1.000000  1.000000   \n",
       "1  jan-feb 2013       1.0  0.923077  0.923077  0.923077  0.923077  0.884615   \n",
       "2  feb-mar 2013       1.0  1.000000  1.000000  1.000000  1.000000  1.000000   \n",
       "3  mar-apr 2013       1.0  0.863636  0.863636  0.863636  0.863636  0.863636   \n",
       "4  apr-may 2013       1.0  0.833333  0.833333  0.833333  0.833333  0.833333   \n",
       "\n",
       "   7 months  8 months  9 months    ...      39 months  40 months  41 months  \\\n",
       "0  1.000000  1.000000  1.000000    ...       0.250000   0.250000   0.250000   \n",
       "1  0.884615  0.884615  0.846154    ...       0.461538   0.423077   0.384615   \n",
       "2  1.000000  1.000000  1.000000    ...       0.469388   0.469388   0.448980   \n",
       "3  0.818182  0.818182  0.818182    ...       0.272727   0.272727   0.227273   \n",
       "4  0.833333  0.833333  0.833333    ...       0.416667   0.333333   0.333333   \n",
       "\n",
       "   42 months  43 months  44 months  45 months  46 months  47 months  48 months  \n",
       "0   0.250000   0.250000   0.250000   0.250000   0.250000   0.250000       0.25  \n",
       "1   0.307692   0.269231   0.230769   0.192308   0.192308   0.115385        NaN  \n",
       "2   0.448980   0.387755   0.306122   0.265306   0.163265        NaN        NaN  \n",
       "3   0.136364   0.136364   0.136364   0.136364        NaN        NaN        NaN  \n",
       "4   0.250000   0.250000   0.166667        NaN        NaN        NaN        NaN  \n",
       "\n",
       "[5 rows x 49 columns]"
      ]
     },
     "execution_count": 6,
     "metadata": {},
     "output_type": "execute_result"
    }
   ],
   "source": [
    "retention_table.head()"
   ]
  },
  {
   "cell_type": "markdown",
   "metadata": {},
   "source": [
    "##### Cumulative Average Transaction table or Historic LTV\n",
    "\n",
    "This is a table of users grouped by cohort. At each period (column), the value is the cumulative average expenditure \n",
    "of the users in that cohort."
   ]
  },
  {
   "cell_type": "code",
   "execution_count": 7,
   "metadata": {
    "collapsed": false
   },
   "outputs": [
    {
     "data": {
      "text/html": [
       "<div>\n",
       "<table border=\"1\" class=\"dataframe\">\n",
       "  <thead>\n",
       "    <tr style=\"text-align: right;\">\n",
       "      <th></th>\n",
       "      <th>cohort</th>\n",
       "      <th>1 months</th>\n",
       "      <th>2 months</th>\n",
       "      <th>3 months</th>\n",
       "      <th>4 months</th>\n",
       "      <th>5 months</th>\n",
       "      <th>6 months</th>\n",
       "      <th>7 months</th>\n",
       "      <th>8 months</th>\n",
       "      <th>9 months</th>\n",
       "      <th>...</th>\n",
       "      <th>39 months</th>\n",
       "      <th>40 months</th>\n",
       "      <th>41 months</th>\n",
       "      <th>42 months</th>\n",
       "      <th>43 months</th>\n",
       "      <th>44 months</th>\n",
       "      <th>45 months</th>\n",
       "      <th>46 months</th>\n",
       "      <th>47 months</th>\n",
       "      <th>48 months</th>\n",
       "    </tr>\n",
       "  </thead>\n",
       "  <tbody>\n",
       "    <tr>\n",
       "      <th>0</th>\n",
       "      <td>dec-jan 2013</td>\n",
       "      <td>0.000000</td>\n",
       "      <td>0.000000</td>\n",
       "      <td>0.000000</td>\n",
       "      <td>9473.750000</td>\n",
       "      <td>10273.750000</td>\n",
       "      <td>35648.750000</td>\n",
       "      <td>37397.500000</td>\n",
       "      <td>37397.500000</td>\n",
       "      <td>37897.500000</td>\n",
       "      <td>...</td>\n",
       "      <td>51346.000000</td>\n",
       "      <td>51346.000000</td>\n",
       "      <td>51346.000000</td>\n",
       "      <td>51346.000000</td>\n",
       "      <td>51346.000000</td>\n",
       "      <td>51346.000000</td>\n",
       "      <td>51346.000000</td>\n",
       "      <td>51346.000000</td>\n",
       "      <td>51346.000000</td>\n",
       "      <td>57596.0</td>\n",
       "    </tr>\n",
       "    <tr>\n",
       "      <th>1</th>\n",
       "      <td>jan-feb 2013</td>\n",
       "      <td>11576.923077</td>\n",
       "      <td>11576.923077</td>\n",
       "      <td>11846.153846</td>\n",
       "      <td>12807.692308</td>\n",
       "      <td>13134.615385</td>\n",
       "      <td>13134.615385</td>\n",
       "      <td>13134.615385</td>\n",
       "      <td>15057.692308</td>\n",
       "      <td>15057.692308</td>\n",
       "      <td>...</td>\n",
       "      <td>115503.538462</td>\n",
       "      <td>117666.615385</td>\n",
       "      <td>122296.230769</td>\n",
       "      <td>124686.576923</td>\n",
       "      <td>127086.576923</td>\n",
       "      <td>129286.576923</td>\n",
       "      <td>129795.038462</td>\n",
       "      <td>131410.423077</td>\n",
       "      <td>135862.346154</td>\n",
       "      <td>NaN</td>\n",
       "    </tr>\n",
       "    <tr>\n",
       "      <th>2</th>\n",
       "      <td>feb-mar 2013</td>\n",
       "      <td>193.877551</td>\n",
       "      <td>193.877551</td>\n",
       "      <td>2540.816327</td>\n",
       "      <td>2561.224490</td>\n",
       "      <td>2561.224490</td>\n",
       "      <td>5671.428571</td>\n",
       "      <td>5671.428571</td>\n",
       "      <td>8914.285714</td>\n",
       "      <td>10342.857143</td>\n",
       "      <td>...</td>\n",
       "      <td>58054.591837</td>\n",
       "      <td>61159.163265</td>\n",
       "      <td>65220.285714</td>\n",
       "      <td>68337.571429</td>\n",
       "      <td>72340.102041</td>\n",
       "      <td>73307.897959</td>\n",
       "      <td>83922.469388</td>\n",
       "      <td>92463.448980</td>\n",
       "      <td>NaN</td>\n",
       "      <td>NaN</td>\n",
       "    </tr>\n",
       "    <tr>\n",
       "      <th>3</th>\n",
       "      <td>mar-apr 2013</td>\n",
       "      <td>4204.545455</td>\n",
       "      <td>4363.636364</td>\n",
       "      <td>4363.636364</td>\n",
       "      <td>4363.636364</td>\n",
       "      <td>4363.636364</td>\n",
       "      <td>6518.181818</td>\n",
       "      <td>6518.181818</td>\n",
       "      <td>6518.181818</td>\n",
       "      <td>6518.181818</td>\n",
       "      <td>...</td>\n",
       "      <td>103378.681818</td>\n",
       "      <td>109347.454545</td>\n",
       "      <td>116036.636364</td>\n",
       "      <td>116036.636364</td>\n",
       "      <td>119059.181818</td>\n",
       "      <td>120981.363636</td>\n",
       "      <td>127704.090909</td>\n",
       "      <td>NaN</td>\n",
       "      <td>NaN</td>\n",
       "      <td>NaN</td>\n",
       "    </tr>\n",
       "    <tr>\n",
       "      <th>4</th>\n",
       "      <td>apr-may 2013</td>\n",
       "      <td>14535.000000</td>\n",
       "      <td>15617.916667</td>\n",
       "      <td>15617.916667</td>\n",
       "      <td>16309.166667</td>\n",
       "      <td>16309.166667</td>\n",
       "      <td>16309.166667</td>\n",
       "      <td>16309.166667</td>\n",
       "      <td>19675.333333</td>\n",
       "      <td>28083.666667</td>\n",
       "      <td>...</td>\n",
       "      <td>248986.916667</td>\n",
       "      <td>248986.916667</td>\n",
       "      <td>249611.916667</td>\n",
       "      <td>278986.916667</td>\n",
       "      <td>284195.250000</td>\n",
       "      <td>297619.833333</td>\n",
       "      <td>NaN</td>\n",
       "      <td>NaN</td>\n",
       "      <td>NaN</td>\n",
       "      <td>NaN</td>\n",
       "    </tr>\n",
       "  </tbody>\n",
       "</table>\n",
       "<p>5 rows × 49 columns</p>\n",
       "</div>"
      ],
      "text/plain": [
       "         cohort      1 months      2 months      3 months      4 months  \\\n",
       "0  dec-jan 2013      0.000000      0.000000      0.000000   9473.750000   \n",
       "1  jan-feb 2013  11576.923077  11576.923077  11846.153846  12807.692308   \n",
       "2  feb-mar 2013    193.877551    193.877551   2540.816327   2561.224490   \n",
       "3  mar-apr 2013   4204.545455   4363.636364   4363.636364   4363.636364   \n",
       "4  apr-may 2013  14535.000000  15617.916667  15617.916667  16309.166667   \n",
       "\n",
       "       5 months      6 months      7 months      8 months      9 months  \\\n",
       "0  10273.750000  35648.750000  37397.500000  37397.500000  37897.500000   \n",
       "1  13134.615385  13134.615385  13134.615385  15057.692308  15057.692308   \n",
       "2   2561.224490   5671.428571   5671.428571   8914.285714  10342.857143   \n",
       "3   4363.636364   6518.181818   6518.181818   6518.181818   6518.181818   \n",
       "4  16309.166667  16309.166667  16309.166667  19675.333333  28083.666667   \n",
       "\n",
       "     ...          39 months      40 months      41 months      42 months  \\\n",
       "0    ...       51346.000000   51346.000000   51346.000000   51346.000000   \n",
       "1    ...      115503.538462  117666.615385  122296.230769  124686.576923   \n",
       "2    ...       58054.591837   61159.163265   65220.285714   68337.571429   \n",
       "3    ...      103378.681818  109347.454545  116036.636364  116036.636364   \n",
       "4    ...      248986.916667  248986.916667  249611.916667  278986.916667   \n",
       "\n",
       "       43 months      44 months      45 months      46 months      47 months  \\\n",
       "0   51346.000000   51346.000000   51346.000000   51346.000000   51346.000000   \n",
       "1  127086.576923  129286.576923  129795.038462  131410.423077  135862.346154   \n",
       "2   72340.102041   73307.897959   83922.469388   92463.448980            NaN   \n",
       "3  119059.181818  120981.363636  127704.090909            NaN            NaN   \n",
       "4  284195.250000  297619.833333            NaN            NaN            NaN   \n",
       "\n",
       "   48 months  \n",
       "0    57596.0  \n",
       "1        NaN  \n",
       "2        NaN  \n",
       "3        NaN  \n",
       "4        NaN  \n",
       "\n",
       "[5 rows x 49 columns]"
      ]
     },
     "execution_count": 7,
     "metadata": {},
     "output_type": "execute_result"
    }
   ],
   "source": [
    "historicLTV.head()"
   ]
  },
  {
   "cell_type": "markdown",
   "metadata": {},
   "source": [
    "From the cumulative table, trends can be observed in the growth of lifetime value over time"
   ]
  },
  {
   "cell_type": "code",
   "execution_count": 8,
   "metadata": {
    "collapsed": false
   },
   "outputs": [],
   "source": [
    "## Estimating Lifetime Value - build Lifetimes table\n",
    "\n",
    "Lifetime_Value_Table = pd.DataFrame()\n",
    "Lifetime_Value_Table['Customer Age'] = pd.Series(col_names).values\n",
    "\n",
    "## calculate change in historic LTV from period to period, averaged over all cohorts\n",
    "\n",
    "new_col = []\n",
    "for i in range(1,len(col_names)):\n",
    "    diffs = []\n",
    "    for j in range(i,len(col_names)):\n",
    "        a = (historicLTV.ix[j-i,col_names[i]])\n",
    "        b = (historicLTV.ix[j-i,col_names[i-1]])\n",
    "        if b != 0:\n",
    "            diffs.append((a-b)/b)\n",
    "    new_col.append((sum(diffs)/len(diffs))*100)\n",
    "while(len(new_col)<48):\n",
    "    new_col.append(None)\n",
    "df_col = pd.Series(new_col)\n",
    "Lifetime_Value_Table['Historic LTV Change %']=df_col.values\n",
    "\n",
    "Lifetime_Value_Table.set_index('Customer Age')\n",
    "\n",
    "## explore log-linear relationship between time and LTV change\n",
    "\n",
    "new_col = []\n",
    "for i in range(Lifetime_Value_Table['Historic LTV Change %'].dropna().shape[0]):\n",
    "    new_col.append(np.log10(Lifetime_Value_Table.ix[i,'Historic LTV Change %']))\n",
    "while(len(new_col)<48):\n",
    "    new_col.append(None)\n",
    "df_col = pd.Series(new_col)\n",
    "Lifetime_Value_Table['Log of Change']=df_col.values\n"
   ]
  },
  {
   "cell_type": "code",
   "execution_count": 91,
   "metadata": {
    "collapsed": false
   },
   "outputs": [
    {
     "data": {
      "image/png": "[encoded data removed]",
      "text/plain": [
       "<matplotlib.figure.Figure at 0x11db26518>"
      ]
     },
     "metadata": {},
     "output_type": "display_data"
    }
   ],
   "source": [
    "x=[]\n",
    "for i in range(0, Lifetime_Value_Table['Historic LTV Change %'].dropna().shape[0]):\n",
    "    x.append(i)\n",
    "y = (Lifetime_Value_Table['Log of Change'].dropna()).values.tolist()\n",
    "\n",
    "### figure\n",
    "% matplotlib inline\n",
    "plt.style.use('ggplot')\n",
    "\n",
    "plt.figure(figsize=(9, 6))\n",
    "plt.plot(x, y, 'ro')\n",
    "plt.axis([0, 60, 0, 2])\n",
    "plt.xlabel('Months')\n",
    "plt.ylabel('Log (in base 10) of change in LTV')\n",
    "plt.title('age vs LTV change')\n",
    "plt.show()"
   ]
  },
  {
   "cell_type": "markdown",
   "metadata": {},
   "source": [
    "From the figure above, a log-linear cluster of data points can be eyeballed easily. It follows to fit a regression\n",
    "equation to this scatter, which will be our model. "
   ]
  },
  {
   "cell_type": "code",
   "execution_count": 15,
   "metadata": {
    "collapsed": false
   },
   "outputs": [
    {
     "name": "stdout",
     "output_type": "stream",
     "text": [
      "log(LTV Change) = -0.0125373177202 months + 1.08105836928\n"
     ]
    }
   ],
   "source": [
    "from pylab import *\n",
    "coefficients1 = polyfit(x,y,1)\n",
    "print('log(LTV Change) = '+str(coefficients1[0])+' months '+'+ '+str(coefficients1[1]))"
   ]
  },
  {
   "cell_type": "markdown",
   "metadata": {},
   "source": [
    "From this, we can make predictions with our model, and compare them with historic LTV before predicting future LTV"
   ]
  },
  {
   "cell_type": "code",
   "execution_count": 16,
   "metadata": {
    "collapsed": false
   },
   "outputs": [],
   "source": [
    "ages = []\n",
    "stop = 87\n",
    "for i in range(1,stop):\n",
    "    a = str(i)\n",
    "    b = a+' months'\n",
    "    ages.append(b)\n",
    "\n",
    "## Initialise table\n",
    "\n",
    "clv_model_table = pd.DataFrame()\n",
    "clv_model_table['customer age'] = pd.Series(ages).values\n",
    "\n",
    "new_col = []\n",
    "for i in range(1,stop):\n",
    "    new_col.append((coefficients1[0]*(i)) + coefficients1[1])\n",
    "df_col = pd.Series(new_col)\n",
    "clv_model_table['Log of Change']=df_col.values\n",
    "\n",
    "new_col = []\n",
    "for i in range(86):\n",
    "    new_col.append((10**(clv_model_table.ix[i,'Log of Change']))/100)\n",
    "df_col = pd.Series(new_col)\n",
    "clv_model_table['LTV Growth Factor']=df_col.values\n",
    "\n",
    "for i in range(48):\n",
    "    model_col = [historicLTV.ix[i,'1 months']]\n",
    "    hist_col = []\n",
    "    for k in range(48):\n",
    "        hist_col.append(historicLTV.ix[i,col_names[k]])\n",
    "    while (len(hist_col) < 86):\n",
    "        hist_col.append(None)\n",
    "    for j in range(1,86):\n",
    "        model_col.append((model_col[j-1]*clv_model_table.ix[j-1,'LTV Growth Factor']) + model_col[j-1])\n",
    "    clv_model_table['historical '+segments[i]] = pd.Series(hist_col).values\n",
    "    clv_model_table['predicted '+segments[i]] = pd.Series(model_col).values\n",
    "\n"
   ]
  },
  {
   "cell_type": "code",
   "execution_count": 92,
   "metadata": {
    "collapsed": false,
    "scrolled": true
   },
   "outputs": [
    {
     "name": "stdout",
     "output_type": "stream",
     "text": [
      "1027444.55252\n"
     ]
    },
    {
     "data": {
      "image/png": "[encoded data removed]",
      "text/plain": [
       "<matplotlib.figure.Figure at 0x11edb5390>"
      ]
     },
     "metadata": {},
     "output_type": "display_data"
    }
   ],
   "source": [
    "LTVs = []\n",
    "for i in range(48):\n",
    "    LTVs.append(clv_model_table.ix[85,'predicted '+segments[i]])\n",
    "\n",
    "Users = []\n",
    "for i in range(48):\n",
    "    Users.append(active_customers_table.ix[i,'1 months'])\n",
    "\n",
    "calc_table = []\n",
    "for i in range(48):\n",
    "    calc_table.append(LTVs[i]*Users[i])\n",
    "\n",
    "Historic_Cohort_LTV = sum(calc_table)/sum(Users)\n",
    "print(Historic_Cohort_LTV)\n",
    "\n",
    "% matplotlib inline\n",
    "plt.style.use('ggplot')\n",
    "\n",
    "## plot CLV\n",
    "plt.figure(figsize=(7, 4))\n",
    "x_ax = [1]\n",
    "y_ax = [(historicLTV['1 months'].sum()/historicLTV['1 months'].shape[0])/100]\n",
    "for i in range(1,360):\n",
    "    log_change = (coefficients1[0] * i) + coefficients1[1]\n",
    "    change = (10**(log_change))/100\n",
    "    new = y_ax[i-1]+(y_ax[i-1]*change)\n",
    "    y_ax.append(new)\n",
    "    x_ax.append(i+1)\n",
    "\n",
    "\n",
    "plt.plot(x_ax,y_ax)\n",
    "plt.xlabel('Months')\n",
    "plt.ylabel('Predicted LTV (USD)')\n",
    "plt.title('LTV by historic Cohort over 30 years')\n",
    "plt.show()"
   ]
  },
  {
   "cell_type": "markdown",
   "metadata": {},
   "source": [
    "The trend here shows LTV becoming asymptotic past the 150 month mark. We can take the asymptote ($12,000) as our \n",
    "estimate for lifetime value"
   ]
  },
  {
   "cell_type": "code",
   "execution_count": 138,
   "metadata": {
    "collapsed": false
   },
   "outputs": [
    {
     "data": {
      "image/png": "[encoded data removed]",
      "text/plain": [
       "<matplotlib.figure.Figure at 0x11b689320>"
      ]
     },
     "metadata": {},
     "output_type": "display_data"
    }
   ],
   "source": [
    "## plot trends\n",
    "% matplotlib inline\n",
    "plt.style.use('ggplot')\n",
    "\n",
    "fig, ax = plt.subplots(figsize=(8,6))\n",
    "\n",
    "y_real = []\n",
    "y_pred = []\n",
    "x_lab = []\n",
    "labels = []\n",
    "z = []\n",
    "for i in range(24):\n",
    "    y_pred.append(y_ax[i])\n",
    "    y_real.append((historicLTV[str(i+1)+' months'].sum()/(48-i))/100)\n",
    "    labels.append(col_names[i])\n",
    "    x_lab.append(i+1)\n",
    "    z.append(i + 1.25)\n",
    "labels = tuple(labels) \n",
    "groups = 24\n",
    "\n",
    "width = 0.5\n",
    "\n",
    "\n",
    "plt.ylabel('LTV USD')\n",
    "plt.title('Predicted LTV vs Historic LTV over first 2 years')\n",
    "\n",
    "ax.set_xticks(z)\n",
    "ax.set_xticklabels(labels, rotation='vertical')\n",
    "\n",
    "\n",
    "rects1 = ax.bar(x_lab, y_real, width)\n",
    "rects2 = ax.bar(z, y_pred, width, alpha = 0.7, color='orange')\n",
    "\n",
    "\n",
    "plt.legend( (rects1[0], rects2[0]), ('Historic', 'Predicted') )\n",
    "\n",
    "plt.show()"
   ]
  },
  {
   "cell_type": "markdown",
   "metadata": {},
   "source": [
    "However, from the trend above, the discrepancy between predicted LTV and historic LTV grows as a function of time. This is sufficient enough by the 24th month mark, that it is unnecessary to perform a statistical test to conclude that the model might be wildly problematic."
   ]
  },
  {
   "cell_type": "markdown",
   "metadata": {},
   "source": [
    "## BG/NBD Model"
   ]
  },
  {
   "cell_type": "markdown",
   "metadata": {},
   "source": [
    "While it would have been tedious to build the BG/NBD model from scratch, there is an open-ource library called 'lifetimes' that has the model implemented: https://github.com/CamDavidsonPilon/lifetimes. All that was left to do was to import the model, and engineer features to fit its parameters: \n",
    "1. Frequency, or the average number of transactions over a period of time, from a customers first purchase,\n",
    "2. Recency, or the time since a customer made their last purchase\n",
    "3. Age, which is the amount of time elapsed since a customer's first purchase."
   ]
  },
  {
   "cell_type": "code",
   "execution_count": 39,
   "metadata": {
    "collapsed": false
   },
   "outputs": [],
   "source": [
    "lifetimes_df = pd.read_csv('grandmaster.csv')\n",
    "\n",
    "## define frequency column\n",
    "lifetimes_df['frequency'] = lifetimes_df['total_purchases'] - 1\n",
    "\n",
    "## define age column\n",
    "lifetimes_df['T'] = lifetimes_df['age']-lifetimes_df['before_first_purchase']\n",
    "\n",
    "## define recency column\n",
    "new_col = [0] * lifetimes_df.shape[0]\n",
    "lifetimes_df['recency'] = pd.Series(new_col)\n",
    "for i in range(lifetimes_df.shape[0]):\n",
    "    if lifetimes_df.ix[i,'frequency'] > 0: \n",
    "        lifetimes_df.ix[i,'recency'] = lifetimes_df.ix[i,'T'] - lifetimes_df.ix[i,'since_last_purchase']\n",
    "        if lifetimes_df.ix[i,'recency'] < 0:\n",
    "            lifetimes_df.ix[i,'recency'] = 1\n",
    "## define monetary_value column\n",
    "lifetimes_df['monetary_value'] = lifetimes_df['expenditure_per_transaction']\n",
    "\n"
   ]
  },
  {
   "cell_type": "code",
   "execution_count": null,
   "metadata": {
    "collapsed": false
   },
   "outputs": [],
   "source": [
    "from lifetimes import *\n",
    "proba_fit = BetaGeoFitter(penalizer_coef=0.0)\n",
    "proba_fit.fit(lifetimes_df['frequency'], lifetimes_df['recency'], lifetimes_df['T'])\n",
    "print(proba_fit)"
   ]
  },
  {
   "cell_type": "code",
   "execution_count": 41,
   "metadata": {
    "collapsed": false
   },
   "outputs": [
    {
     "data": {
      "text/plain": [
       "<matplotlib.axes._subplots.AxesSubplot at 0x11b8e1668>"
      ]
     },
     "execution_count": 41,
     "metadata": {},
     "output_type": "execute_result"
    },
    {
     "data": {
      "image/png": "[encoded data removed]",
      "text/plain": [
       "<matplotlib.figure.Figure at 0x11ab29b38>"
      ]
     },
     "metadata": {},
     "output_type": "display_data"
    }
   ],
   "source": [
    "% matplotlib inline\n",
    "plt.style.use('ggplot')\n",
    "\n",
    "from lifetimes.plotting import plot_period_transactions\n",
    "plot_period_transactions(proba_fit)"
   ]
  },
  {
   "cell_type": "markdown",
   "metadata": {},
   "source": [
    "From fitting the model to our data, and comparing its predictions for number of transactions for each user to that of our historical data, it is clear from eyeballing the graph above, that our model fits very well with our data, and therefore, we can be more confident about predictions with this model, than with the historic CLV model.\n",
    "\n",
    "However, calculating CLV with the BG/NBD model is dependent on there being no correletion between monetary value (the averange expenditure per transaction for each customer), and the customer's frequency of activity."
   ]
  },
  {
   "cell_type": "code",
   "execution_count": 42,
   "metadata": {
    "collapsed": false
   },
   "outputs": [
    {
     "data": {
      "text/html": [
       "<div>\n",
       "<table border=\"1\" class=\"dataframe\">\n",
       "  <thead>\n",
       "    <tr style=\"text-align: right;\">\n",
       "      <th></th>\n",
       "      <th>monetary_value</th>\n",
       "      <th>frequency</th>\n",
       "    </tr>\n",
       "  </thead>\n",
       "  <tbody>\n",
       "    <tr>\n",
       "      <th>monetary_value</th>\n",
       "      <td>1.000000</td>\n",
       "      <td>-0.017415</td>\n",
       "    </tr>\n",
       "    <tr>\n",
       "      <th>frequency</th>\n",
       "      <td>-0.017415</td>\n",
       "      <td>1.000000</td>\n",
       "    </tr>\n",
       "  </tbody>\n",
       "</table>\n",
       "</div>"
      ],
      "text/plain": [
       "                monetary_value  frequency\n",
       "monetary_value        1.000000  -0.017415\n",
       "frequency            -0.017415   1.000000"
      ]
     },
     "execution_count": 42,
     "metadata": {},
     "output_type": "execute_result"
    }
   ],
   "source": [
    "lifetimes_df[['monetary_value', 'frequency']].corr()"
   ]
  },
  {
   "cell_type": "markdown",
   "metadata": {},
   "source": [
    "As it is observed that the correlation is quite low, we can proceed with our modelling."
   ]
  },
  {
   "cell_type": "code",
   "execution_count": null,
   "metadata": {
    "collapsed": false
   },
   "outputs": [],
   "source": [
    "ggf = GammaGammaFitter(penalizer_coef = 0)\n",
    "ggf.fit(lifetimes_df['frequency'],\n",
    "        lifetimes_df['monetary_value'])\n",
    "print(ggf)"
   ]
  },
  {
   "cell_type": "code",
   "execution_count": null,
   "metadata": {
    "collapsed": false
   },
   "outputs": [],
   "source": [
    "lifetimes_df['predicted_CLV'] = ggf.customer_lifetime_value(\n",
    "    proba_fit, #the model to use to predict the number of future transactions\n",
    "    lifetimes_df['frequency'],\n",
    "    lifetimes_df['recency'],\n",
    "    lifetimes_df['T'],\n",
    "    lifetimes_df['monetary_value'],\n",
    "    time=600, # months\n",
    "    discount_rate=0 # monthly discount rate ~ 12.7% annually\n",
    ")/100"
   ]
  },
  {
   "cell_type": "code",
   "execution_count": 105,
   "metadata": {
    "collapsed": false
   },
   "outputs": [
    {
     "name": "stdout",
     "output_type": "stream",
     "text": [
      "CLV after 10 years is: 2133.5645135125865\n",
      "CLV after 20 years is: 3406.3835561090327\n",
      "CLV after 30 years is: 4428.297706343537\n",
      "CLV after 40 years is: 5311.542587729351\n",
      "CLV after 50 years is: 6103.014532779424\n"
     ]
    },
    {
     "data": {
      "text/plain": [
       "count    9.986000e+03\n",
       "mean     6.111571e+03\n",
       "std      3.646651e+04\n",
       "min      3.679991e-16\n",
       "25%      6.517103e+02\n",
       "50%      1.171898e+03\n",
       "75%      3.707485e+03\n",
       "max      3.011707e+06\n",
       "Name: predicted_CLV, dtype: float64"
      ]
     },
     "execution_count": 105,
     "metadata": {},
     "output_type": "execute_result"
    }
   ],
   "source": [
    "# LTV With Outliers\n",
    "CLV = []\n",
    "for i in range(1,6):\n",
    "    a = ggf.customer_lifetime_value(\n",
    "        proba_fit, #the model to use to predict the number of future transactions\n",
    "        lifetimes_df['frequency'],\n",
    "        lifetimes_df['recency'],\n",
    "        lifetimes_df['T'],\n",
    "        lifetimes_df['monetary_value'],\n",
    "        time=i*120, # months\n",
    "        discount_rate=0 # monthly discount rate ~ 12.7% annually\n",
    "        ).sum()/(lifetimes_df.shape[0] * 100)\n",
    "    CLV.append(a)\n",
    "    \n",
    "print('CLV after 10 years is: '+str(CLV[0]))\n",
    "print('CLV after 20 years is: '+str(CLV[1]))\n",
    "print('CLV after 30 years is: '+str(CLV[2]))\n",
    "print('CLV after 40 years is: '+str(CLV[3]))\n",
    "print('CLV after 50 years is: '+str(CLV[4]))\n",
    "lifetimes_df['predicted_CLV'].describe()"
   ]
  },
  {
   "cell_type": "markdown",
   "metadata": {},
   "source": [
    "#### Lifetime Value: \n",
    "\n",
    "From summary statistics, it shows that the data is wildly skewed! While the average CLV at 50 years (which is where the cut-off was determined) is ~ $6100, only a sixth of users have an LTV more than the average. \n",
    "\n",
    "A decision was made to perform further analysis over 2 datasets- one with outliers, and the other with outliers removed by the IQR rule. However, I went with 2 * IQR (Inter-quartile-range) for performing cleaning, as this retains ~ 89 percent of our sample size."
   ]
  },
  {
   "cell_type": "code",
   "execution_count": 87,
   "metadata": {
    "collapsed": false
   },
   "outputs": [
    {
     "name": "stdout",
     "output_type": "stream",
     "text": [
      "proportion not in outliers: 0.8856\n"
     ]
    },
    {
     "data": {
      "text/plain": [
       "count    8.856000e+03\n",
       "mean     1.843217e+03\n",
       "std      1.988091e+03\n",
       "min      3.679991e-16\n",
       "25%      5.935361e+02\n",
       "50%      9.922984e+02\n",
       "75%      2.231121e+03\n",
       "max      9.814592e+03\n",
       "Name: predicted_CLV, dtype: float64"
      ]
     },
     "execution_count": 87,
     "metadata": {},
     "output_type": "execute_result"
    },
    {
     "data": {
      "image/png": "[encoded data removed]",
      "text/plain": [
       "<matplotlib.figure.Figure at 0x11ea6e940>"
      ]
     },
     "metadata": {},
     "output_type": "display_data"
    }
   ],
   "source": [
    "## LTV without outliers, proportions compared , distribution\n",
    "\n",
    "df = pd.DataFrame()\n",
    "IQR = lifetimes_df['predicted_CLV'].quantile(0.75) - lifetimes_df['predicted_CLV'].quantile(0.25)\n",
    "Q1 = lifetimes_df['predicted_CLV'].quantile(0.25) - (2 * IQR)\n",
    "Q2 = lifetimes_df['predicted_CLV'].quantile(0.75) + (2 * IQR)\n",
    "df = lifetimes_df.loc[lifetimes_df['predicted_CLV'] <= Q2]\n",
    "df = df.loc[df['predicted_CLV'] >= Q1]\n",
    "print('proportion not in outliers: '+(str(df.shape[0]/lifetimes_df.shape[0])))\n",
    "df['predicted_CLV'].describe()\n",
    "\n",
    "\n",
    "% matplotlib inline\n",
    "plt.style.use('ggplot')\n",
    "\n",
    "df['predicted_CLV'].hist(bins = 50)\n",
    "\n",
    "df['predicted_CLV'].describe()"
   ]
  },
  {
   "cell_type": "markdown",
   "metadata": {},
   "source": [
    "Without Outliers, the LTV at 50 years drops to $1,843 per user, and lies below the third quartile mark, making for a less tailed distribution. Plotting with the more evenly distributed dataset shows that we have a gamma distribution. As such, a likelihood ratio test will be best suited for confirming hypothesis, where there is uncertainty."
   ]
  },
  {
   "cell_type": "markdown",
   "metadata": {},
   "source": [
    "### Hypothesis: How does customer behaviour affect LTV?"
   ]
  },
  {
   "cell_type": "code",
   "execution_count": 119,
   "metadata": {
    "collapsed": false
   },
   "outputs": [],
   "source": [
    "## BrandNew vs UsedFirst\n",
    "\n",
    "brand_new = lifetimes_df.loc[lifetimes_df['first_type'] == 1] \n",
    "used = lifetimes_df.loc[lifetimes_df['first_type'] == 0] \n",
    "brandnew = [brand_new['predicted_CLV'].shape[0], brand_new['predicted_CLV'].quantile(0.25), \n",
    "            brand_new['predicted_CLV'].median(), brand_new['predicted_CLV'].quantile(0.75), \n",
    "            brand_new['predicted_CLV'].mean() ]\n",
    "useds = [used['predicted_CLV'].shape[0], used['predicted_CLV'].quantile(0.25), used['predicted_CLV'].median(),\n",
    "        used['predicted_CLV'].quantile(0.75), used['predicted_CLV'].mean()]\n",
    "full = [lifetimes_df['predicted_CLV'].shape[0], lifetimes_df['predicted_CLV'].quantile(0.25), \n",
    "       lifetimes_df['predicted_CLV'].median(), lifetimes_df['predicted_CLV'].quantile(0.75), lifetimes_df['predicted_CLV'].mean()]\n",
    "\n",
    "brand_new_2 = df.loc[df['first_type'] == 1] \n",
    "used_2 = df.loc[df['first_type'] == 0] \n",
    "brandnew2 = [brand_new_2['predicted_CLV'].shape[0], brand_new_2['predicted_CLV'].quantile(0.25), \n",
    "            brand_new_2['predicted_CLV'].median(), brand_new_2['predicted_CLV'].quantile(0.75), \n",
    "            brand_new_2['predicted_CLV'].mean()]\n",
    "useds2 = [used_2['predicted_CLV'].shape[0], used_2['predicted_CLV'].quantile(0.25), used_2['predicted_CLV'].median(),\n",
    "        used_2['predicted_CLV'].quantile(0.75), used_2['predicted_CLV'].mean()]\n",
    "full2 = [df['predicted_CLV'].shape[0], df['predicted_CLV'].quantile(0.25), \n",
    "       df['predicted_CLV'].median(), df['predicted_CLV'].quantile(0.75), df['predicted_CLV'].mean()]\n"
   ]
  },
  {
   "cell_type": "code",
   "execution_count": 135,
   "metadata": {
    "collapsed": false
   },
   "outputs": [
    {
     "data": {
      "image/png": "[encoded data removed]",
      "text/plain": [
       "<matplotlib.figure.Figure at 0x11b8ab390>"
      ]
     },
     "metadata": {},
     "output_type": "display_data"
    },
    {
     "data": {
      "image/png": "[encoded data removed]",
      "text/plain": [
       "<matplotlib.figure.Figure at 0x11d8c9da0>"
      ]
     },
     "metadata": {},
     "output_type": "display_data"
    }
   ],
   "source": [
    "% matplotlib inline\n",
    "plt.style.use('ggplot')\n",
    "\n",
    "## plot vars\n",
    "width = 0.25\n",
    "x_lab = []\n",
    "y = []\n",
    "z = []\n",
    "for i in range(5):\n",
    "    x_lab.append(i+1)\n",
    "    y.append(x_lab[i]+width)\n",
    "    z.append(y[i]+width)\n",
    "labels = ('total users','first quartile','median','third quartile','mean')\n",
    "\n",
    "\n",
    "## With Outliers\n",
    "fig, ax = plt.subplots(figsize=(8,6))\n",
    "plt.ylabel('LTV USD')\n",
    "plt.title('LTV Users by type of first purchase, with outliers')\n",
    "\n",
    "ax.set_xticks(y)\n",
    "ax.set_xticklabels(labels, rotation='vertical')\n",
    "\n",
    "rects1 = ax.bar(x_lab, brandnew, width, alpha=0.5)\n",
    "rects2 = ax.bar(y, useds, width, alpha=0.5, color='orange')\n",
    "rects3 = ax.bar(z, full, width, alpha=0.5, color = 'red')\n",
    "\n",
    "\n",
    "plt.legend( (rects1[0], rects2[0], rects3[0]), ('Brand New first', 'Used first', 'All') )\n",
    "plt.axis([0, 7, 0, 11000])\n",
    "plt.show()\n",
    "\n",
    "## without outliers\n",
    "fig, ax = plt.subplots(figsize=(8,6))\n",
    "plt.ylabel('LTV USD')\n",
    "plt.title('LTV Users by type of first purchase, without outliers')\n",
    "\n",
    "ax.set_xticks(y)\n",
    "ax.set_xticklabels(labels, rotation='vertical')\n",
    "\n",
    "rects1 = ax.bar(x_lab, brandnew2, width, alpha=0.5)\n",
    "rects2 = ax.bar(y, useds2, width, alpha=0.5, color='orange')\n",
    "rects3 = ax.bar(z, full2, width, alpha=0.5, color = 'red')\n",
    "\n",
    "\n",
    "plt.legend( (rects1[0], rects2[0], rects3[0]), ('Brand New first', 'Used first', 'All') )\n",
    "plt.axis([0, 7, 0, 11000])\n",
    "plt.show()"
   ]
  },
  {
   "cell_type": "markdown",
   "metadata": {},
   "source": [
    "##### With Outliers:\n",
    "Of the 10,000 users in the sample with outliers, roughly 4500 bought a new item first, and 5500 a used one first. However, while their means vary, being slightly greater than USD 8000 for Used first, and below USD 4000 for new first (about 33 percent greater, or less than the true mean, respectively), there isn't as much discrepancy up till the median. This can be attributed to the shape of a gamma distribution, and the large influence of outliers.\n",
    "\n",
    "##### Without Outliers:\n",
    "In the cleaned set, there are 8856 users, with 4200 buying a brand new instrument first, and 4656 a used one first, a less than 10 percent difference, as opposed to the 17 percent difference in the set with outliers. However, the mean LTV of the users who purchased used items first is 12.5% more than the sample mean, and it is 11.5% less for those who bought brandnew items first. The discrepancies grow as quartiles are increased, with the used-item users having progressively higher LTVs, and the brand new item users having lower LTVs.\n",
    "\n",
    "From these, although a likelihood ratio test would ideally be administered to verify the hypothesis, the conclusion should verify the hypothesis that customers who purchase used items first generally outspent those who purchase brand new items first. "
   ]
  },
  {
   "cell_type": "code",
   "execution_count": 141,
   "metadata": {
    "collapsed": true
   },
   "outputs": [],
   "source": [
    "## BrandNew vs UsedFirst\n",
    "lifetimes_df['prop_new'] = lifetimes_df['brand_new_transactions']/lifetimes_df['total_purchases']\n",
    "h = lifetimes_df['prop_new'].mean()\n",
    "\n",
    "high = lifetimes_df.loc[lifetimes_df['prop_new'] >= h] \n",
    "low = lifetimes_df.loc[lifetimes_df['prop_new'] <= h] \n",
    " \n",
    "brandnew = [high['predicted_CLV'].shape[0], high['predicted_CLV'].quantile(0.25), \n",
    "            high['predicted_CLV'].median(), high['predicted_CLV'].quantile(0.75), \n",
    "            high['predicted_CLV'].mean() ]\n",
    "useds = [low['predicted_CLV'].shape[0], low['predicted_CLV'].quantile(0.25), low['predicted_CLV'].median(),\n",
    "        low['predicted_CLV'].quantile(0.75), low['predicted_CLV'].mean()]\n",
    "full = [lifetimes_df['predicted_CLV'].shape[0], lifetimes_df['predicted_CLV'].quantile(0.25), \n",
    "       lifetimes_df['predicted_CLV'].median(), lifetimes_df['predicted_CLV'].quantile(0.75), \n",
    "        lifetimes_df['predicted_CLV'].mean()]\n",
    "\n",
    "df['prop_new'] = df['brand_new_transactions']/df['total_purchases']\n",
    "h = df['prop_new'].mean()\n",
    "\n",
    "high2 = df.loc[df['prop_new'] >= h] \n",
    "low2 = df.loc[df['prop_new'] <= h] \n",
    " \n",
    "brandnew2 = [high2['predicted_CLV'].shape[0], high2['predicted_CLV'].quantile(0.25), \n",
    "            high2['predicted_CLV'].median(), high2['predicted_CLV'].quantile(0.75), \n",
    "            high2['predicted_CLV'].mean() ]\n",
    "used2 = [low2['predicted_CLV'].shape[0], low2['predicted_CLV'].quantile(0.25), low2['predicted_CLV'].median(),\n",
    "        low2['predicted_CLV'].quantile(0.75), low2['predicted_CLV'].mean()]\n",
    "full2 = [df['predicted_CLV'].shape[0], df['predicted_CLV'].quantile(0.25), \n",
    "       df['predicted_CLV'].median(), df['predicted_CLV'].quantile(0.75), df['predicted_CLV'].mean()]"
   ]
  },
  {
   "cell_type": "code",
   "execution_count": 143,
   "metadata": {
    "collapsed": false
   },
   "outputs": [
    {
     "data": {
      "image/png": "[encoded data removed]",
      "text/plain": [
       "<matplotlib.figure.Figure at 0x11dea5f60>"
      ]
     },
     "metadata": {},
     "output_type": "display_data"
    },
    {
     "data": {
      "image/png": "[encoded data removed]",
      "text/plain": [
       "<matplotlib.figure.Figure at 0x11dce54a8>"
      ]
     },
     "metadata": {},
     "output_type": "display_data"
    }
   ],
   "source": [
    "## plot vars\n",
    "width = 0.25\n",
    "x_lab = []\n",
    "y = []\n",
    "z = []\n",
    "for i in range(5):\n",
    "    x_lab.append(i+1)\n",
    "    y.append(x_lab[i]+width)\n",
    "    z.append(y[i]+width)\n",
    "labels = ('total users','first quartile','median','third quartile','mean')\n",
    "\n",
    "\n",
    "## With Outliers\n",
    "fig, ax = plt.subplots(figsize=(8,6))\n",
    "plt.ylabel('LTV in USD')\n",
    "plt.title('LTV Users by amount of brand new purchases, with outliers')\n",
    "\n",
    "ax.set_xticks(y)\n",
    "ax.set_xticklabels(labels, rotation='vertical')\n",
    "\n",
    "rects1 = ax.bar(x_lab, brandnew, width, alpha=0.5)\n",
    "rects2 = ax.bar(y, useds, width, alpha=0.5, color='orange')\n",
    "rects3 = ax.bar(z, full, width, alpha=0.5, color = 'red')\n",
    "\n",
    "\n",
    "plt.legend( (rects1[0], rects2[0], rects3[0]), ('High', 'Low', 'All') )\n",
    "plt.axis([0, 7, 0, 11000])\n",
    "plt.show()\n",
    "\n",
    "## without outliers\n",
    "fig, ax = plt.subplots(figsize=(8,6))\n",
    "plt.ylabel('LTV in USD')\n",
    "plt.title('LTV Users by amount of brand new purchases, without outliers')\n",
    "\n",
    "ax.set_xticks(y)\n",
    "ax.set_xticklabels(labels, rotation='vertical')\n",
    "\n",
    "rects1 = ax.bar(x_lab, brandnew2, width, alpha=0.5)\n",
    "rects2 = ax.bar(y, used2, width, alpha=0.5, color='orange')\n",
    "rects3 = ax.bar(z, full2, width, alpha=0.5, color = 'red')\n",
    "\n",
    "\n",
    "plt.legend( (rects1[0], rects2[0], rects3[0]), ('High', 'Low', 'All') )\n",
    "plt.axis([0, 7, 0, 11000])\n",
    "plt.show()"
   ]
  },
  {
   "cell_type": "markdown",
   "metadata": {},
   "source": [
    "##### With Outliers\n",
    "Of the 10000 users, 5178 purchased less brand new items than average, while 4822 purchased more than the average, a difference of 7%. However, the average LTV of customers who purchase less brand new items is 33% more than expected, while that of those who purchase more is 35.8% less than expected, with large discrepancies beginning past the median, and before the 75th quartile.\n",
    "\n",
    "##### Without Outliers\n",
    "Without outliers, 4495 users purchased more brand new items, while 4361 purchased less brand new items than average, and interesting switch from data with outliers, but with 3% difference. It is inferred from this that more of the outliers who have higher LTVs purchase used instruments, than brand new instruments, as the difference in means falls to 9.5% more for those who purchase fewer brand new items, and 9.2 less than average for those who purchase more brand new items."
   ]
  }
 ],
 "metadata": {
  "kernelspec": {
   "display_name": "Python 3",
   "language": "python",
   "name": "python3"
  },
  "language_info": {
   "codemirror_mode": {
    "name": "ipython",
    "version": 3
   },
   "file_extension": ".py",
   "mimetype": "text/x-python",
   "name": "python",
   "nbconvert_exporter": "python",
   "pygments_lexer": "ipython3",
   "version": "3.5.2"
  }
 },
 "nbformat": 4,
 "nbformat_minor": 0
}
